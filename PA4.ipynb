{
 "cells": [
  {
   "cell_type": "markdown",
   "id": "df7b79f1",
   "metadata": {},
   "source": [
    "# Assignment 4, Alexander Skadal Kyrkjeeide, Version 1, Spring 2023"
   ]
  },
  {
   "cell_type": "markdown",
   "id": "6d8b998c",
   "metadata": {},
   "source": [
    "## A) "
   ]
  },
  {
   "cell_type": "code",
   "execution_count": 11,
   "id": "554e6e98",
   "metadata": {},
   "outputs": [
    {
     "name": "stdout",
     "output_type": "stream",
     "text": [
      "0\n",
      "1\n",
      "2\n",
      "3\n",
      "4\n",
      "5\n",
      "6 *\n",
      "7\n",
      "8\n",
      "9 *\n",
      "10\n",
      "11\n",
      "12 *\n",
      "13\n",
      "14\n",
      "15 *\n",
      "16\n",
      "17\n",
      "18 *\n",
      "19\n",
      "20\n",
      "21 *\n",
      "22\n",
      "23\n",
      "24 *\n",
      "25\n",
      "26\n",
      "27 *\n",
      "28\n",
      "29\n",
      "30 *\n",
      "31\n",
      "32\n",
      "33 *\n",
      "34\n",
      "35\n",
      "36 *\n",
      "37\n",
      "38\n",
      "39 *\n",
      "40\n",
      "41\n",
      "42 *\n",
      "43\n",
      "44\n",
      "45 *\n",
      "46\n",
      "47\n",
      "48 *\n",
      "49\n",
      "50\n",
      "51 *\n",
      "52\n",
      "53\n",
      "54 *\n",
      "55\n",
      "56\n",
      "57 *\n",
      "58\n",
      "59\n",
      "60 *\n",
      "61\n",
      "62\n",
      "63 *\n",
      "64\n",
      "65\n",
      "66 *\n",
      "67\n",
      "68\n",
      "69 *\n",
      "70\n",
      "71\n",
      "72 *\n",
      "73\n",
      "74\n",
      "75 *\n",
      "76\n",
      "77\n",
      "78 *\n",
      "79\n",
      "80\n",
      "81 *\n",
      "82\n",
      "83\n",
      "84 *\n",
      "85\n",
      "86\n",
      "87 *\n",
      "88\n",
      "89\n",
      "90 *\n",
      "91\n",
      "92\n",
      "93 *\n",
      "94\n",
      "95\n",
      "96 *\n",
      "97\n",
      "98\n",
      "99 *\n",
      "100\n"
     ]
    }
   ],
   "source": [
    "for numbers in range(0, 101):\n",
    "    if numbers % 3 == 0 and numbers not in [0, 3]:\n",
    "        print(f\"{numbers} *\")\n",
    "    else:\n",
    "        print(numbers)"
   ]
  },
  {
   "cell_type": "markdown",
   "id": "a7bb8f45",
   "metadata": {},
   "source": [
    "## B)"
   ]
  },
  {
   "cell_type": "code",
   "execution_count": 10,
   "id": "190e2207",
   "metadata": {},
   "outputs": [
    {
     "name": "stdout",
     "output_type": "stream",
     "text": [
      "Enter a number from 1 to 12: 2\n",
      "Month: February\n",
      "Number of days: 28\n"
     ]
    }
   ],
   "source": [
    "month_days = [31, 28, 31, 30, 31, 30, 31, 31, 30, 31, 30, 31]\n",
    "\n",
    "month_names = ['January', 'February', 'March', 'April', 'May', 'June', 'July','August', 'September', 'October', 'November', 'December']\n",
    "\n",
    "month = int(input(\"Enter a number from 1 to 12: \"))\n",
    "\n",
    "if 1 <= month <= 12:\n",
    "    print(f\"Month: {month_names[month - 1]}\")\n",
    "    print(f\"Number of days: {month_days[month - 1]}\")\n",
    "else:\n",
    "    print(\"Invalid month number.\")"
   ]
  },
  {
   "cell_type": "markdown",
   "id": "00686acf",
   "metadata": {},
   "source": [
    "## C)"
   ]
  },
  {
   "cell_type": "code",
   "execution_count": 5,
   "id": "6a036138",
   "metadata": {},
   "outputs": [
    {
     "name": "stdout",
     "output_type": "stream",
     "text": [
      "Enter a positive integer: 5\n",
      "5 is a prime number.\n"
     ]
    }
   ],
   "source": [
    "def is_prime(num):\n",
    "    if num <= 1:\n",
    "        return False\n",
    "    for i in range(2, num):\n",
    "        if num % i == 0:\n",
    "            return False\n",
    "    return True\n",
    "\n",
    "number = int(input(\"Enter a positive integer: \"))\n",
    "\n",
    "if is_prime(number):\n",
    "    print(f\"{number} is a prime number.\")\n",
    "else:\n",
    "    print(f\"{number} is not a prime number.\")"
   ]
  },
  {
   "cell_type": "markdown",
   "id": "3c133011",
   "metadata": {},
   "source": [
    "## D)"
   ]
  },
  {
   "cell_type": "code",
   "execution_count": 7,
   "id": "979968b5",
   "metadata": {},
   "outputs": [
    {
     "name": "stdout",
     "output_type": "stream",
     "text": [
      "Input lengths of the triangle sides: \n",
      "x: 4\n",
      "y: 3\n",
      "z: 4\n",
      "Isosceles triangle\n"
     ]
    }
   ],
   "source": [
    "print(\"Input lengths of the triangle sides: \")\n",
    "x = int(input(\"x: \"))\n",
    "y = int(input(\"y: \"))\n",
    "z = int(input(\"z: \"))\n",
    "\n",
    "if x == y == z:\n",
    "    print(\"Equilateral triangle\")\n",
    "elif x==y or y==z or z==x:\n",
    "    print(\"Isosceles triangle\")\n",
    "else:\n",
    "    print(\"Scalene triangle\")"
   ]
  },
  {
   "cell_type": "markdown",
   "id": "c62adb2a",
   "metadata": {},
   "source": [
    "## E)"
   ]
  },
  {
   "cell_type": "code",
   "execution_count": 9,
   "id": "e5b66c0d",
   "metadata": {},
   "outputs": [
    {
     "name": "stdout",
     "output_type": "stream",
     "text": [
      "65:  Senior Citizen\n",
      "78:  Senior Citizen\n",
      "34:  Adult\n",
      "56:  Adult\n",
      "12:  Minor\n",
      "9:  Minor\n",
      "43:  Adult\n",
      "67:  Senior Citizen\n"
     ]
    }
   ],
   "source": [
    "def categorize_age(age):\n",
    "    if age < 18:\n",
    "        return \" Minor\"\n",
    "    elif age >= 18 and age < 65:\n",
    "        return \" Adult\"\n",
    "    else:\n",
    "        return \" Senior Citizen\"\n",
    "\n",
    "ages = [65, 78, 34, 56, 12, 9, 43, 67]\n",
    "\n",
    "for age in ages:\n",
    "    print(f\"{age}: {categorize_age(age)}\")"
   ]
  },
  {
   "cell_type": "code",
   "execution_count": null,
   "id": "f493d1ab",
   "metadata": {},
   "outputs": [],
   "source": []
  }
 ],
 "metadata": {
  "kernelspec": {
   "display_name": "Python 3 (ipykernel)",
   "language": "python",
   "name": "python3"
  },
  "language_info": {
   "codemirror_mode": {
    "name": "ipython",
    "version": 3
   },
   "file_extension": ".py",
   "mimetype": "text/x-python",
   "name": "python",
   "nbconvert_exporter": "python",
   "pygments_lexer": "ipython3",
   "version": "3.9.13"
  }
 },
 "nbformat": 4,
 "nbformat_minor": 5
}
